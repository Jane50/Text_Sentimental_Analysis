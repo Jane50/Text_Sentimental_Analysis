{
 "cells": [
  {
   "cell_type": "code",
   "execution_count": 1,
   "id": "a3748985",
   "metadata": {},
   "outputs": [],
   "source": [
    "# Import packages"
   ]
  },
  {
   "cell_type": "code",
   "execution_count": 7,
   "id": "3d8f9a83",
   "metadata": {},
   "outputs": [
    {
     "data": {
      "text/plain": [
       "True"
      ]
     },
     "execution_count": 7,
     "metadata": {},
     "output_type": "execute_result"
    }
   ],
   "source": [
    "import nltk\n",
    "import re\n",
    "import gensim\n",
    "import csv\n",
    "import nltk.tokenize\n",
    "nltk.download('punkt', quiet = True)\n"
   ]
  },
  {
   "cell_type": "code",
   "execution_count": 8,
   "id": "d6ab2662",
   "metadata": {},
   "outputs": [
    {
     "name": "stdout",
     "output_type": "stream",
     "text": [
      "['Rating,Title,Date,Helpful_Vote,Total_Vote,Review,Movie\\n', '10,Fantastic...but possibly overwhelming.,26-Mar-19,54,71,\"\"\"Spider-Man: Into the Spider-Verse\"\" is a fantastic film but might be a bit overwhelming for some viewers. It\\'s filled with blaring hip-hop music and the animation is beyond splashy...it\\'s competely intense! Now these are NOT criticisms...more a warning if you hate these sorts of things or if you or someone you loves has challenges, such as Autism....as the film might really be overwhelming. Still, I\\'m nearly 55 and loved the picture...and I think most will if they have an open mind and want something different. That DOES strongly apply to me, as I\\'ve gotten sick of superhero movies because there have been so many recently and there\\'s a certain sameness about them...but not this Spider-Man film! The story is told with breathtaking CGI--with a look that is nothing like any other film I\\'ve ever seen. In this world is a young man who sees Spider-Man killed and is also bitten by a spider and becomes the next incarnation of Spider-Man. But instead of taking the time to enjoy and learn about his new powers, this young man finds himself in the middle of a weird apocalyptic occurance---and all the various incarnations from the various universes come together to save the day. Overall, amazingly creative...there\\'s nothing else like it. This is more than reason enough to see it. Sadly, however, the film loses a bit on home TVs...even big ones as the scale and size of the film needs the big screen.\",Spider-Man: Into the Spider-Verse\\n', '8,How on God\\'s green Earth did this work so well???,21-Dec-18,198,279,\"The worlds of superhero movies and superhero comics are not as similar as they seem on the surface. Currently, film studios are all about the \"\"extended universe\"\", seeing how many different titles and characters they can shove into one franchise (Avengers, X-Men, Justice League), making for an easy way to squeeze a few extra bucks out of their lesser known properties. Comics have this as well, of course. However, they also have something modern movies haven\\'t really tapped into yet: story one-offs, a chance for a storyteller to create a unique tale and not be constrained by the implications on or from the larger universe. Spider-Verse gets to do just that, while playfully taking on the fun (if convoluted) absurdity of extended superhero universes. Listen, I hear you. \"\"How could we possibly need another Spider-Man movie?\"\" Spider-Verse understands that question and has a take on it. Yes, Peter Parker is here. In fact, there are two Peter Parkers. There\\'s also a Spider-Woman, a Noir Spider-Man, an anime Spider-Girl/Robot, and a Spider-Pig. At the center though is Miles Morales, an Afro-Hispanic Brooklyn teen who must help these other Spider-People get back to their own planes of existence. He fights with his cop dad, he adores his shady uncle, hates being simply the smartest kid in the room, and just wants to do something that matters. Being Spider-Man wasn\\'t his idea, but hey, when a radioactive spider gives you powers, what choice do you have? Look, I don\\'t have any sort of hot take on this movie. It looks great, the humor pops with surprises, the voice casting is beyond perfect. It\\'s simply a stylishly exciting and refreshingly unique take on the superhero genre, and sometimes that\\'s more than enough.\",Spider-Man: Into the Spider-Verse\\n', '10,Stan Lee Is Smiling Right Now,17-Dec-18,773,947,\"A movie worthy of Stan Lee\\'s approval. Incredible animation, great story, great message. This film lives up to the hype and honestly surpassed my expectations. The only reason I think there are some negative reviews is because you can never please everyone. However, for the vast majority of viewers, I believe you\\'ll find this film to be great. Highly recommend seeing it in theaters just for the amazing animation style.\",Spider-Man: Into the Spider-Verse\\n']\n",
      "Rating,Title,Date,Helpful_Vote,Total_Vote,Review,Movie\n",
      "\n",
      "10,Fantastic...but possibly overwhelming.,26-Mar-19,54,71,\"\"\"Spider-Man: Into the Spider-Verse\"\" is a fantastic film but might be a bit overwhelming for some viewers. It's filled with blaring hip-hop music and the animation is beyond splashy...it's competely intense! Now these are NOT criticisms...more a warning if you hate these sorts of things or if you or someone you loves has challenges, such as Autism....as the film might really be overwhelming. Still, I'm nearly 55 and loved the picture...and I think most will if they have an open mind and want something different. That DOES strongly apply to me, as I've gotten sick of superhero movies because there have been so many recently and there's a certain sameness about them...but not this Spider-Man film! The story is told with breathtaking CGI--with a look that is nothing like any other film I've ever seen. In this world is a young man who sees Spider-Man killed and is also bitten by a spider and becomes the next incarnation of Spider-Man. But instead of taking the time to enjoy and learn about his new powers, this young man finds himself in the middle of a weird apocalyptic occurance---and all the various incarnations from the various universes come together to save the day. Overall, amazingly creative...there's nothing else like it. This is more than reason enough to see it. Sadly, however, the film loses a bit on home TVs...even big ones as the scale and size of the film needs the big screen.\",Spider-Man: Into the Spider-Verse\n",
      "\n",
      "8,How on God's green Earth did this work so well???,21-Dec-18,198,279,\"The worlds of superhero movies and superhero comics are not as similar as they seem on the surface. Currently, film studios are all about the \"\"extended universe\"\", seeing how many different titles and characters they can shove into one franchise (Avengers, X-Men, Justice League), making for an easy way to squeeze a few extra bucks out of their lesser known properties. Comics have this as well, of course. However, they also have something modern movies haven't really tapped into yet: story one-offs, a chance for a storyteller to create a unique tale and not be constrained by the implications on or from the larger universe. Spider-Verse gets to do just that, while playfully taking on the fun (if convoluted) absurdity of extended superhero universes. Listen, I hear you. \"\"How could we possibly need another Spider-Man movie?\"\" Spider-Verse understands that question and has a take on it. Yes, Peter Parker is here. In fact, there are two Peter Parkers. There's also a Spider-Woman, a Noir Spider-Man, an anime Spider-Girl/Robot, and a Spider-Pig. At the center though is Miles Morales, an Afro-Hispanic Brooklyn teen who must help these other Spider-People get back to their own planes of existence. He fights with his cop dad, he adores his shady uncle, hates being simply the smartest kid in the room, and just wants to do something that matters. Being Spider-Man wasn't his idea, but hey, when a radioactive spider gives you powers, what choice do you have? Look, I don't have any sort of hot take on this movie. It looks great, the humor pops with surprises, the voice casting is beyond perfect. It's simply a stylishly exciting and refreshingly unique take on the superhero genre, and sometimes that's more than enough.\",Spider-Man: Into the Spider-Verse\n",
      "\n",
      "10,Stan Lee Is Smiling Right Now,17-Dec-18,773,947,\"A movie worthy of Stan Lee's approval. Incredible animation, great story, great message. This film lives up to the hype and honestly surpassed my expectations. The only reason I think there are some negative reviews is because you can never please everyone. However, for the vast majority of viewers, I believe you'll find this film to be great. Highly recommend seeing it in theaters just for the amazing animation style.\",Spider-Man: Into the Spider-Verse\n",
      "\n"
     ]
    }
   ],
   "source": [
    "# Download the sample datasets\n",
    "# Read in the text I am going to analyse\n",
    "csv_file = 'imdb-spider-man-reviews-modify2.csv'\n",
    "\n",
    "with open(csv_file, encoding='utf-8-sig') as text:\n",
    "    lines = text.readlines()\n",
    "\n",
    "print(lines[:4]) # this print the first 4 lines\n",
    "\n",
    "for l in lines[:4]: # this prints the first 4 lines seperately\n",
    "    print(l)\n"
   ]
  },
  {
   "cell_type": "code",
   "execution_count": 9,
   "id": "81dceb81",
   "metadata": {},
   "outputs": [
    {
     "name": "stdout",
     "output_type": "stream",
     "text": [
      "['``', 'Spider-Man', ':', 'Into', 'the', 'Spider-Verse', \"''\", 'is', 'a', 'fantastic', 'film', 'but', 'might', 'be', 'a', 'bit', 'overwhelming', 'for', 'some', 'viewers', '.', 'It', \"'s\", 'filled', 'with', 'blaring', 'hip-hop', 'music', 'and', 'the', 'animation', 'is', 'beyond', 'splashy', '...', 'it', \"'s\", 'competely', 'intense', '!', 'Now', 'these', 'are', 'NOT', 'criticisms', '...', 'more', 'a', 'warning', 'if', 'you', 'hate', 'these', 'sorts', 'of', 'things', 'or', 'if', 'you', 'or', 'someone', 'you', 'loves', 'has', 'challenges', ',', 'such', 'as', 'Autism', '....', 'as', 'the', 'film', 'might', 'really', 'be', 'overwhelming', '.', 'Still', ',', 'I', \"'m\", 'nearly', '55', 'and', 'loved', 'the', 'picture', '...', 'and', 'I', 'think', 'most', 'will', 'if', 'they', 'have', 'an', 'open', 'mind', 'and', 'want', 'something', 'different', '.', 'That', 'DOES', 'strongly', 'apply', 'to', 'me', ',', 'as', 'I', \"'ve\", 'gotten', 'sick', 'of', 'superhero', 'movies', 'because', 'there', 'have', 'been', 'so', 'many', 'recently', 'and', 'there', \"'s\", 'a', 'certain', 'sameness', 'about', 'them', '...', 'but', 'not', 'this', 'Spider-Man', 'film', '!', 'The', 'story', 'is', 'told', 'with', 'breathtaking', 'CGI', '--', 'with', 'a', 'look', 'that', 'is', 'nothing', 'like', 'any', 'other', 'film', 'I', \"'ve\", 'ever', 'seen', '.', 'In', 'this', 'world', 'is', 'a', 'young', 'man', 'who', 'sees', 'Spider-Man', 'killed', 'and', 'is', 'also', 'bitten', 'by', 'a', 'spider', 'and', 'becomes', 'the', 'next', 'incarnation', 'of', 'Spider-Man', '.', 'But', 'instead', 'of', 'taking', 'the', 'time', 'to', 'enjoy', 'and', 'learn', 'about', 'his', 'new', 'powers', ',', 'this', 'young', 'man', 'finds', 'himself', 'in', 'the', 'middle', 'of', 'a', 'weird', 'apocalyptic', 'occurance', '--', '-and', 'all', 'the', 'various', 'incarnations', 'from', 'the', 'various', 'universes', 'come', 'together', 'to', 'save', 'the', 'day', '.', 'Overall', ',', 'amazingly', 'creative', '...', 'there', \"'s\", 'nothing', 'else', 'like', 'it', '.', 'This', 'is', 'more', 'than', 'reason', 'enough', 'to', 'see', 'it', '.', 'Sadly', ',', 'however', ',', 'the', 'film', 'loses', 'a', 'bit', 'on', 'home', 'TVs', '...', 'even', 'big', 'ones', 'as', 'the', 'scale', 'and', 'size', 'of', 'the', 'film', 'needs', 'the', 'big', 'screen', '.']\n",
      "['The', 'worlds', 'of', 'superhero', 'movies', 'and', 'superhero', 'comics', 'are', 'not', 'as', 'similar', 'as', 'they', 'seem', 'on', 'the', 'surface', '.', 'Currently', ',', 'film', 'studios', 'are', 'all', 'about', 'the', '``', 'extended', 'universe', \"''\", ',', 'seeing', 'how', 'many', 'different', 'titles', 'and', 'characters', 'they', 'can', 'shove', 'into', 'one', 'franchise', '(', 'Avengers', ',', 'X-Men', ',', 'Justice', 'League', ')', ',', 'making', 'for', 'an', 'easy', 'way', 'to', 'squeeze', 'a', 'few', 'extra', 'bucks', 'out', 'of', 'their', 'lesser', 'known', 'properties', '.', 'Comics', 'have', 'this', 'as', 'well', ',', 'of', 'course', '.', 'However', ',', 'they', 'also', 'have', 'something', 'modern', 'movies', 'have', \"n't\", 'really', 'tapped', 'into', 'yet', ':', 'story', 'one-offs', ',', 'a', 'chance', 'for', 'a', 'storyteller', 'to', 'create', 'a', 'unique', 'tale', 'and', 'not', 'be', 'constrained', 'by', 'the', 'implications', 'on', 'or', 'from', 'the', 'larger', 'universe', '.', 'Spider-Verse', 'gets', 'to', 'do', 'just', 'that', ',', 'while', 'playfully', 'taking', 'on', 'the', 'fun', '(', 'if', 'convoluted', ')', 'absurdity', 'of', 'extended', 'superhero', 'universes', '.', 'Listen', ',', 'I', 'hear', 'you', '.', '``', 'How', 'could', 'we', 'possibly', 'need', 'another', 'Spider-Man', 'movie', '?', \"''\", 'Spider-Verse', 'understands', 'that', 'question', 'and', 'has', 'a', 'take', 'on', 'it', '.', 'Yes', ',', 'Peter', 'Parker', 'is', 'here', '.', 'In', 'fact', ',', 'there', 'are', 'two', 'Peter', 'Parkers', '.', 'There', \"'s\", 'also', 'a', 'Spider-Woman', ',', 'a', 'Noir', 'Spider-Man', ',', 'an', 'anime', 'Spider-Girl/Robot', ',', 'and', 'a', 'Spider-Pig', '.', 'At', 'the', 'center', 'though', 'is', 'Miles', 'Morales', ',', 'an', 'Afro-Hispanic', 'Brooklyn', 'teen', 'who', 'must', 'help', 'these', 'other', 'Spider-People', 'get', 'back', 'to', 'their', 'own', 'planes', 'of', 'existence', '.', 'He', 'fights', 'with', 'his', 'cop', 'dad', ',', 'he', 'adores', 'his', 'shady', 'uncle', ',', 'hates', 'being', 'simply', 'the', 'smartest', 'kid', 'in', 'the', 'room', ',', 'and', 'just', 'wants', 'to', 'do', 'something', 'that', 'matters', '.', 'Being', 'Spider-Man', 'was', \"n't\", 'his', 'idea', ',', 'but', 'hey', ',', 'when', 'a', 'radioactive', 'spider', 'gives', 'you', 'powers', ',', 'what', 'choice', 'do', 'you', 'have', '?', 'Look', ',', 'I', 'do', \"n't\", 'have', 'any', 'sort', 'of', 'hot', 'take', 'on', 'this', 'movie', '.', 'It', 'looks', 'great', ',', 'the', 'humor', 'pops', 'with', 'surprises', ',', 'the', 'voice', 'casting', 'is', 'beyond', 'perfect', '.', 'It', \"'s\", 'simply', 'a', 'stylishly', 'exciting', 'and', 'refreshingly', 'unique', 'take', 'on', 'the', 'superhero', 'genre', ',', 'and', 'sometimes', 'that', \"'s\", 'more', 'than', 'enough', '.']\n",
      "['A', 'movie', 'worthy', 'of', 'Stan', 'Lee', \"'s\", 'approval', '.', 'Incredible', 'animation', ',', 'great', 'story', ',', 'great', 'message', '.', 'This', 'film', 'lives', 'up', 'to', 'the', 'hype', 'and', 'honestly', 'surpassed', 'my', 'expectations', '.', 'The', 'only', 'reason', 'I', 'think', 'there', 'are', 'some', 'negative', 'reviews', 'is', 'because', 'you', 'can', 'never', 'please', 'everyone', '.', 'However', ',', 'for', 'the', 'vast', 'majority', 'of', 'viewers', ',', 'I', 'believe', 'you', \"'ll\", 'find', 'this', 'film', 'to', 'be', 'great', '.', 'Highly', 'recommend', 'seeing', 'it', 'in', 'theaters', 'just', 'for', 'the', 'amazing', 'animation', 'style', '.']\n",
      "['So', 'many', 'have', 'commented', ',', 'so', 'I', 'will', 'be', 'brief', '.', 'From', 'an', 'intriguing', 'plot', 'to', 'wonderful', 'characterizations', 'using', 'drop', 'dead', 'animation', ',', 'this', 'film', 'works', '.', 'About', 'ten', 'minutes', 'into', 'it', 'it', 'thought', ',', '``', 'This', 'is', 'just', 'a', 'kind', 'of', 'hip', 'hop', 'version', 'of', 'Spiderman', '.', \"''\", 'But', 'the', 'main', 'character', 'is', 'suddenly', 'thrust', 'into', 'a', 'world', 'which', 'he', 'must', 'learn', 'quickly', 'to', 'manage', '.', 'The', 'canon', 'takes', 'a', 'turn', 'here', 'toward', 'incredible', 'creativity', '.', 'I', 'avoid', 'mainstream', 'animation', ',', 'but', 'this', 'has', 'restored', 'my', 'faith', '.']\n"
     ]
    }
   ],
   "source": [
    "with open(csv_file, encoding='utf-8-sig') as text:\n",
    "    reader = csv.reader(text)\n",
    "    reviews = [row[5] for row in reader][1:]\n",
    "\n",
    "for review in reviews[:4]:\n",
    "    tokens = nltk.tokenize.word_tokenize(review)\n",
    "    print(tokens)"
   ]
  },
  {
   "cell_type": "code",
   "execution_count": 10,
   "id": "24e29640",
   "metadata": {},
   "outputs": [
    {
     "name": "stdout",
     "output_type": "stream",
     "text": [
      "['Spider-Man', 'Into', 'the', 'Spider-Verse', 'is', 'a', 'fantastic', 'film', 'but', 'might', 'be', 'a', 'bit', 'overwhelming', 'for', 'some', 'viewers', 'It', \"'s\", 'filled', 'with', 'blaring', 'hip-hop', 'music', 'and', 'the', 'animation', 'is', 'beyond', 'splashy', 'it', \"'s\", 'competely', 'intense', 'Now', 'these', 'are', 'NOT', 'criticisms', 'more', 'a', 'warning', 'if', 'you', 'hate', 'these', 'sorts', 'of', 'things', 'or', 'if', 'you', 'or', 'someone', 'you', 'loves', 'has', 'challenges', 'such', 'as', 'Autism', 'as', 'the', 'film', 'might', 'really', 'be', 'overwhelming', 'Still', 'I', \"'m\", 'nearly', '55', 'and', 'loved', 'the', 'picture', 'and', 'I', 'think', 'most', 'will', 'if', 'they', 'have', 'an', 'open', 'mind', 'and', 'want', 'something', 'different', 'That', 'DOES', 'strongly', 'apply', 'to', 'me', 'as', 'I', \"'ve\", 'gotten', 'sick', 'of', 'superhero', 'movies', 'because', 'there', 'have', 'been', 'so', 'many', 'recently', 'and', 'there', \"'s\", 'a', 'certain', 'sameness', 'about', 'them', 'but', 'not', 'this', 'Spider-Man', 'film', 'The', 'story', 'is', 'told', 'with', 'breathtaking', 'CGI', 'with', 'a', 'look', 'that', 'is', 'nothing', 'like', 'any', 'other', 'film', 'I', \"'ve\", 'ever', 'seen', 'In', 'this', 'world', 'is', 'a', 'young', 'man', 'who', 'sees', 'Spider-Man', 'killed', 'and', 'is', 'also', 'bitten', 'by', 'a', 'spider', 'and', 'becomes', 'the', 'next', 'incarnation', 'of', 'Spider-Man', 'But', 'instead', 'of', 'taking', 'the', 'time', 'to', 'enjoy', 'and', 'learn', 'about', 'his', 'new', 'powers', 'this', 'young', 'man', 'finds', 'himself', 'in', 'the', 'middle', 'of', 'a', 'weird', 'apocalyptic', 'occurance', '-and', 'all', 'the', 'various', 'incarnations', 'from', 'the', 'various', 'universes', 'come', 'together', 'to', 'save', 'the', 'day', 'Overall', 'amazingly', 'creative', 'there', \"'s\", 'nothing', 'else', 'like', 'it', 'This', 'is', 'more', 'than', 'reason', 'enough', 'to', 'see', 'it', 'Sadly', 'however', 'the', 'film', 'loses', 'a', 'bit', 'on', 'home', 'TVs', 'even', 'big', 'ones', 'as', 'the', 'scale', 'and', 'size', 'of', 'the', 'film', 'needs', 'the', 'big', 'screen']\n",
      "['The', 'worlds', 'of', 'superhero', 'movies', 'and', 'superhero', 'comics', 'are', 'not', 'as', 'similar', 'as', 'they', 'seem', 'on', 'the', 'surface', 'Currently', 'film', 'studios', 'are', 'all', 'about', 'the', 'extended', 'universe', 'seeing', 'how', 'many', 'different', 'titles', 'and', 'characters', 'they', 'can', 'shove', 'into', 'one', 'franchise', 'Avengers', 'X-Men', 'Justice', 'League', 'making', 'for', 'an', 'easy', 'way', 'to', 'squeeze', 'a', 'few', 'extra', 'bucks', 'out', 'of', 'their', 'lesser', 'known', 'properties', 'Comics', 'have', 'this', 'as', 'well', 'of', 'course', 'However', 'they', 'also', 'have', 'something', 'modern', 'movies', 'have', \"n't\", 'really', 'tapped', 'into', 'yet', 'story', 'one-offs', 'a', 'chance', 'for', 'a', 'storyteller', 'to', 'create', 'a', 'unique', 'tale', 'and', 'not', 'be', 'constrained', 'by', 'the', 'implications', 'on', 'or', 'from', 'the', 'larger', 'universe', 'Spider-Verse', 'gets', 'to', 'do', 'just', 'that', 'while', 'playfully', 'taking', 'on', 'the', 'fun', 'if', 'convoluted', 'absurdity', 'of', 'extended', 'superhero', 'universes', 'Listen', 'I', 'hear', 'you', 'How', 'could', 'we', 'possibly', 'need', 'another', 'Spider-Man', 'movie', 'Spider-Verse', 'understands', 'that', 'question', 'and', 'has', 'a', 'take', 'on', 'it', 'Yes', 'Peter', 'Parker', 'is', 'here', 'In', 'fact', 'there', 'are', 'two', 'Peter', 'Parkers', 'There', \"'s\", 'also', 'a', 'Spider-Woman', 'a', 'Noir', 'Spider-Man', 'an', 'anime', 'Spider-Girl/Robot', 'and', 'a', 'Spider-Pig', 'At', 'the', 'center', 'though', 'is', 'Miles', 'Morales', 'an', 'Afro-Hispanic', 'Brooklyn', 'teen', 'who', 'must', 'help', 'these', 'other', 'Spider-People', 'get', 'back', 'to', 'their', 'own', 'planes', 'of', 'existence', 'He', 'fights', 'with', 'his', 'cop', 'dad', 'he', 'adores', 'his', 'shady', 'uncle', 'hates', 'being', 'simply', 'the', 'smartest', 'kid', 'in', 'the', 'room', 'and', 'just', 'wants', 'to', 'do', 'something', 'that', 'matters', 'Being', 'Spider-Man', 'was', \"n't\", 'his', 'idea', 'but', 'hey', 'when', 'a', 'radioactive', 'spider', 'gives', 'you', 'powers', 'what', 'choice', 'do', 'you', 'have', 'Look', 'I', 'do', \"n't\", 'have', 'any', 'sort', 'of', 'hot', 'take', 'on', 'this', 'movie', 'It', 'looks', 'great', 'the', 'humor', 'pops', 'with', 'surprises', 'the', 'voice', 'casting', 'is', 'beyond', 'perfect', 'It', \"'s\", 'simply', 'a', 'stylishly', 'exciting', 'and', 'refreshingly', 'unique', 'take', 'on', 'the', 'superhero', 'genre', 'and', 'sometimes', 'that', \"'s\", 'more', 'than', 'enough']\n",
      "['A', 'movie', 'worthy', 'of', 'Stan', 'Lee', \"'s\", 'approval', 'Incredible', 'animation', 'great', 'story', 'great', 'message', 'This', 'film', 'lives', 'up', 'to', 'the', 'hype', 'and', 'honestly', 'surpassed', 'my', 'expectations', 'The', 'only', 'reason', 'I', 'think', 'there', 'are', 'some', 'negative', 'reviews', 'is', 'because', 'you', 'can', 'never', 'please', 'everyone', 'However', 'for', 'the', 'vast', 'majority', 'of', 'viewers', 'I', 'believe', 'you', \"'ll\", 'find', 'this', 'film', 'to', 'be', 'great', 'Highly', 'recommend', 'seeing', 'it', 'in', 'theaters', 'just', 'for', 'the', 'amazing', 'animation', 'style']\n",
      "['So', 'many', 'have', 'commented', 'so', 'I', 'will', 'be', 'brief', 'From', 'an', 'intriguing', 'plot', 'to', 'wonderful', 'characterizations', 'using', 'drop', 'dead', 'animation', 'this', 'film', 'works', 'About', 'ten', 'minutes', 'into', 'it', 'it', 'thought', 'This', 'is', 'just', 'a', 'kind', 'of', 'hip', 'hop', 'version', 'of', 'Spiderman', 'But', 'the', 'main', 'character', 'is', 'suddenly', 'thrust', 'into', 'a', 'world', 'which', 'he', 'must', 'learn', 'quickly', 'to', 'manage', 'The', 'canon', 'takes', 'a', 'turn', 'here', 'toward', 'incredible', 'creativity', 'I', 'avoid', 'mainstream', 'animation', 'but', 'this', 'has', 'restored', 'my', 'faith']\n"
     ]
    }
   ],
   "source": [
    "# Function to recognize punctuation\n",
    "punct_re = re.compile(r'[^\\w\\s]+$')\n",
    "def is_punct(string):\n",
    "    return punct_re.match(string) is not None\n",
    "\n",
    "for review in reviews[:4]:\n",
    "    tokens = nltk.tokenize.word_tokenize(review)\n",
    "    # print(tokens)\n",
    "    tokens_processed = [token for token in tokens if not is_punct(token)]\n",
    "    print(tokens_processed)\n",
    "    "
   ]
  },
  {
   "cell_type": "code",
   "execution_count": 11,
   "id": "0e291bb7",
   "metadata": {
    "scrolled": false
   },
   "outputs": [
    {
     "name": "stdout",
     "output_type": "stream",
     "text": [
      "[['spider-man', 'into', 'the', 'spider-verse', 'is', 'a', 'fantastic', 'film', 'but', 'might', 'be', 'a', 'bit', 'overwhelming', 'for', 'some', 'viewers', 'it', \"'s\", 'filled', 'with', 'blaring', 'hip-hop', 'music', 'and', 'the', 'animation', 'is', 'beyond', 'splashy', 'it', \"'s\", 'competely', 'intense', 'now', 'these', 'are', 'not', 'criticisms', 'more', 'a', 'warning', 'if', 'you', 'hate', 'these', 'sorts', 'of', 'things', 'or', 'if', 'you', 'or', 'someone', 'you', 'loves', 'has', 'challenges', 'such', 'as', 'autism', 'as', 'the', 'film', 'might', 'really', 'be', 'overwhelming', 'still', 'i', \"'m\", 'nearly', '55', 'and', 'loved', 'the', 'picture', 'and', 'i', 'think', 'most', 'will', 'if', 'they', 'have', 'an', 'open', 'mind', 'and', 'want', 'something', 'different', 'that', 'does', 'strongly', 'apply', 'to', 'me', 'as', 'i', \"'ve\", 'gotten', 'sick', 'of', 'superhero', 'movies', 'because', 'there', 'have', 'been', 'so', 'many', 'recently', 'and', 'there', \"'s\", 'a', 'certain', 'sameness', 'about', 'them', 'but', 'not', 'this', 'spider-man', 'film', 'the', 'story', 'is', 'told', 'with', 'breathtaking', 'cgi', 'with', 'a', 'look', 'that', 'is', 'nothing', 'like', 'any', 'other', 'film', 'i', \"'ve\", 'ever', 'seen', 'in', 'this', 'world', 'is', 'a', 'young', 'man', 'who', 'sees', 'spider-man', 'killed', 'and', 'is', 'also', 'bitten', 'by', 'a', 'spider', 'and', 'becomes', 'the', 'next', 'incarnation', 'of', 'spider-man', 'but', 'instead', 'of', 'taking', 'the', 'time', 'to', 'enjoy', 'and', 'learn', 'about', 'his', 'new', 'powers', 'this', 'young', 'man', 'finds', 'himself', 'in', 'the', 'middle', 'of', 'a', 'weird', 'apocalyptic', 'occurance', '-and', 'all', 'the', 'various', 'incarnations', 'from', 'the', 'various', 'universes', 'come', 'together', 'to', 'save', 'the', 'day', 'overall', 'amazingly', 'creative', 'there', \"'s\", 'nothing', 'else', 'like', 'it', 'this', 'is', 'more', 'than', 'reason', 'enough', 'to', 'see', 'it', 'sadly', 'however', 'the', 'film', 'loses', 'a', 'bit', 'on', 'home', 'tvs', 'even', 'big', 'ones', 'as', 'the', 'scale', 'and', 'size', 'of', 'the', 'film', 'needs', 'the', 'big', 'screen'], ['the', 'worlds', 'of', 'superhero', 'movies', 'and', 'superhero', 'comics', 'are', 'not', 'as', 'similar', 'as', 'they', 'seem', 'on', 'the', 'surface', 'currently', 'film', 'studios', 'are', 'all', 'about', 'the', 'extended', 'universe', 'seeing', 'how', 'many', 'different', 'titles', 'and', 'characters', 'they', 'can', 'shove', 'into', 'one', 'franchise', 'avengers', 'x-men', 'justice', 'league', 'making', 'for', 'an', 'easy', 'way', 'to', 'squeeze', 'a', 'few', 'extra', 'bucks', 'out', 'of', 'their', 'lesser', 'known', 'properties', 'comics', 'have', 'this', 'as', 'well', 'of', 'course', 'however', 'they', 'also', 'have', 'something', 'modern', 'movies', 'have', \"n't\", 'really', 'tapped', 'into', 'yet', 'story', 'one-offs', 'a', 'chance', 'for', 'a', 'storyteller', 'to', 'create', 'a', 'unique', 'tale', 'and', 'not', 'be', 'constrained', 'by', 'the', 'implications', 'on', 'or', 'from', 'the', 'larger', 'universe', 'spider-verse', 'gets', 'to', 'do', 'just', 'that', 'while', 'playfully', 'taking', 'on', 'the', 'fun', 'if', 'convoluted', 'absurdity', 'of', 'extended', 'superhero', 'universes', 'listen', 'i', 'hear', 'you', 'how', 'could', 'we', 'possibly', 'need', 'another', 'spider-man', 'movie', 'spider-verse', 'understands', 'that', 'question', 'and', 'has', 'a', 'take', 'on', 'it', 'yes', 'peter', 'parker', 'is', 'here', 'in', 'fact', 'there', 'are', 'two', 'peter', 'parkers', 'there', \"'s\", 'also', 'a', 'spider-woman', 'a', 'noir', 'spider-man', 'an', 'anime', 'spider-girl/robot', 'and', 'a', 'spider-pig', 'at', 'the', 'center', 'though', 'is', 'miles', 'morales', 'an', 'afro-hispanic', 'brooklyn', 'teen', 'who', 'must', 'help', 'these', 'other', 'spider-people', 'get', 'back', 'to', 'their', 'own', 'planes', 'of', 'existence', 'he', 'fights', 'with', 'his', 'cop', 'dad', 'he', 'adores', 'his', 'shady', 'uncle', 'hates', 'being', 'simply', 'the', 'smartest', 'kid', 'in', 'the', 'room', 'and', 'just', 'wants', 'to', 'do', 'something', 'that', 'matters', 'being', 'spider-man', 'was', \"n't\", 'his', 'idea', 'but', 'hey', 'when', 'a', 'radioactive', 'spider', 'gives', 'you', 'powers', 'what', 'choice', 'do', 'you', 'have', 'look', 'i', 'do', \"n't\", 'have', 'any', 'sort', 'of', 'hot', 'take', 'on', 'this', 'movie', 'it', 'looks', 'great', 'the', 'humor', 'pops', 'with', 'surprises', 'the', 'voice', 'casting', 'is', 'beyond', 'perfect', 'it', \"'s\", 'simply', 'a', 'stylishly', 'exciting', 'and', 'refreshingly', 'unique', 'take', 'on', 'the', 'superhero', 'genre', 'and', 'sometimes', 'that', \"'s\", 'more', 'than', 'enough'], ['a', 'movie', 'worthy', 'of', 'stan', 'lee', \"'s\", 'approval', 'incredible', 'animation', 'great', 'story', 'great', 'message', 'this', 'film', 'lives', 'up', 'to', 'the', 'hype', 'and', 'honestly', 'surpassed', 'my', 'expectations', 'the', 'only', 'reason', 'i', 'think', 'there', 'are', 'some', 'negative', 'reviews', 'is', 'because', 'you', 'can', 'never', 'please', 'everyone', 'however', 'for', 'the', 'vast', 'majority', 'of', 'viewers', 'i', 'believe', 'you', \"'ll\", 'find', 'this', 'film', 'to', 'be', 'great', 'highly', 'recommend', 'seeing', 'it', 'in', 'theaters', 'just', 'for', 'the', 'amazing', 'animation', 'style'], ['so', 'many', 'have', 'commented', 'so', 'i', 'will', 'be', 'brief', 'from', 'an', 'intriguing', 'plot', 'to', 'wonderful', 'characterizations', 'using', 'drop', 'dead', 'animation', 'this', 'film', 'works', 'about', 'ten', 'minutes', 'into', 'it', 'it', 'thought', 'this', 'is', 'just', 'a', 'kind', 'of', 'hip', 'hop', 'version', 'of', 'spiderman', 'but', 'the', 'main', 'character', 'is', 'suddenly', 'thrust', 'into', 'a', 'world', 'which', 'he', 'must', 'learn', 'quickly', 'to', 'manage', 'the', 'canon', 'takes', 'a', 'turn', 'here', 'toward', 'incredible', 'creativity', 'i', 'avoid', 'mainstream', 'animation', 'but', 'this', 'has', 'restored', 'my', 'faith']]\n"
     ]
    }
   ],
   "source": [
    "# Word2Vec needs sentences in a list.\n",
    "data = []\n",
    "\n",
    "for review in reviews[:4]:\n",
    "    tokens = nltk.tokenize.word_tokenize(review)\n",
    "    # print(tokens)\n",
    "    tokens_processed = [token.lower() for token in tokens if not is_punct(token)]\n",
    "    data.append(tokens_processed) # Add each line to the empty list you created above\n",
    "print(data)\n"
   ]
  },
  {
   "cell_type": "code",
   "execution_count": 42,
   "id": "d2c3e0a6",
   "metadata": {},
   "outputs": [
    {
     "data": {
      "text/plain": [
       "True"
      ]
     },
     "execution_count": 42,
     "metadata": {},
     "output_type": "execute_result"
    }
   ],
   "source": [
    "import pandas as pd\n",
    "from nltk.corpus import stopwords\n",
    "from nltk.tokenize import word_tokenize\n",
    "from nltk.stem import WordNetLemmatizer\n",
    "import re\n",
    "\n",
    "import nltk\n",
    "nltk.download('stopwords', quiet = True)\n",
    "nltk.download('wordnet', quiet = True)\n",
    "nltk.download('omw-1.4', quiet = True)"
   ]
  },
  {
   "cell_type": "code",
   "execution_count": 57,
   "id": "279fdd5e",
   "metadata": {
    "scrolled": true
   },
   "outputs": [
    {
     "name": "stdout",
     "output_type": "stream",
     "text": [
      "                                              Review  \\\n",
      "0  \"Spider-Man: Into the Spider-Verse\" is a fanta...   \n",
      "1  The worlds of superhero movies and superhero c...   \n",
      "2  A movie worthy of Stan Lee's approval. Incredi...   \n",
      "3  So many have commented, so I will be brief. Fr...   \n",
      "4  Have you ever sat through a film and you knew ...   \n",
      "\n",
      "                                      preprocess_txt  total_len  pos_count  \\\n",
      "0  [spider, man, spider, verse, fantastic, film, ...        128         10   \n",
      "1  [world, superhero, movie, superhero, comic, si...        165         13   \n",
      "2  [movie, worthy, stan, lee, approval, incredibl...         39          8   \n",
      "3  [many, commented, brief, intriguing, plot, won...         41          6   \n",
      "4  [ever, sat, film, knew, film, would, never, go...        110         16   \n",
      "\n",
      "   neg_count  sentiment  \n",
      "0         12      -0.02  \n",
      "1          6       0.04  \n",
      "2          2       0.15  \n",
      "3          2       0.10  \n",
      "4          2       0.13  \n"
     ]
    }
   ],
   "source": [
    "# Sentimental Analysis\n",
    "# Read the coloum of Review\n",
    "df = pd.read_csv('imdb-spider-man-reviews-modify2.csv', usecols=['Review'])\n",
    "\n",
    "lemma = WordNetLemmatizer()\n",
    "stop_words = stopwords.words('english')\n",
    "\n",
    "# Function to deal with the review of dataset\n",
    "def text_prep(x):\n",
    "    corp = str(x).lower() \n",
    "    corp = re.sub('[^a-zA-Z]+',' ', corp).strip() \n",
    "    tokens = word_tokenize(corp)\n",
    "    words = [t for t in tokens if t not in stop_words]\n",
    "    lemmatize = [lemma.lemmatize(w) for w in words]\n",
    "    return lemmatize\n",
    "preprocess_tag = [text_prep(i) for i in df['Review']]\n",
    "\n",
    "# output the preprocess_txt\n",
    "df['preprocess_txt'] = preprocess_tag\n",
    "# Caculate the total length of the text\n",
    "df['total_len'] = df['preprocess_txt'].map(lambda x: len(x))\n",
    "\n",
    "file = open('neg_words.txt', 'r')\n",
    "neg_words = file.read().split()\n",
    "file = open('pos_words.txt', 'r')\n",
    "pos_words = file.read().split()\n",
    "# Calculate the count of positive words in reviews\n",
    "num_pos = df['preprocess_txt'].map(lambda x: len([i for i in x if i in pos_words]))\n",
    "df['pos_count'] = num_pos\n",
    "# Calculate the count of negative words in reviews\n",
    "num_neg = df['preprocess_txt'].map(lambda x: len([i for i in x if i in neg_words]))\n",
    "df['neg_count'] = num_neg\n",
    "# Calculate the value of sentiment\n",
    "df['sentiment'] = round((df['pos_count'] - df['neg_count']) / df['total_len'], 2)\n",
    "print(df.head())\n",
    "\n",
    "from sklearn.feature_extraction.text import CountVectorizer\n",
    "\n",
    "# instantiate the CountVectorizer\n",
    "vectorizer = CountVectorizer(stop_words='english')\n",
    "\n",
    "# fit and transform the data\n",
    "vectorized_data = vectorizer.fit_transform(df['Review'])\n",
    "\n",
    "# convert the sparse matrix to a pandas dataframe\n",
    "df_bag_of_words = pd.DataFrame.sparse.from_spmatrix(vectorized_data)\n",
    "\n",
    "# set the column names to the words in the vocabulary\n",
    "df_bag_of_words.columns = vectorizer.get_feature_names_out()\n",
    "\n",
    "# add the sentiment column from the original dataframe\n",
    "df_bag_of_words['sentiment'] = df['sentiment']\n",
    "\n",
    "# print(df_bag_of_words['sentiment'])"
   ]
  },
  {
   "cell_type": "code",
   "execution_count": 47,
   "id": "11be9b5c",
   "metadata": {},
   "outputs": [
    {
     "name": "stdout",
     "output_type": "stream",
     "text": [
      "The movie \"Spider-Man: Into the Spider-Verse\" is overall positive.\n"
     ]
    }
   ],
   "source": [
    "# Conclude the sentiment overall\n",
    "positive = []\n",
    "negative = []\n",
    "for sentiment_value in df['sentiment']:\n",
    "    if sentiment_value == 0:\n",
    "        continue\n",
    "    if sentiment_value > 0:\n",
    "        positive.append(sentiment_value)\n",
    "    else:\n",
    "        negative.append(sentiment_value)\n",
    "if len(positive) > len(negative):\n",
    "    print('The movie \"Spider-Man: Into the Spider-Verse\" is overall positive.')\n",
    "else:\n",
    "    print('The movie \"Spider-Man: Into the Spider-Verse\" is overall negative.')\n",
    "        "
   ]
  },
  {
   "cell_type": "code",
   "execution_count": 48,
   "id": "0c42e410",
   "metadata": {},
   "outputs": [
    {
     "data": {
      "image/png": "[encoded data removed]",
      "text/plain": [
       "<Figure size 640x480 with 1 Axes>"
      ]
     },
     "metadata": {},
     "output_type": "display_data"
    }
   ],
   "source": [
    "import matplotlib.pyplot as plt\n",
    "\n",
    "# Group the reviews by their sentiment values\n",
    "sentiment_counts = df.groupby('sentiment').size()\n",
    "\n",
    "# Create a bar chart\n",
    "plt.bar(sentiment_counts.index, sentiment_counts.values)\n",
    "\n",
    "# Add title and labels to the plot\n",
    "plt.title('Sentiment of Reviews')\n",
    "plt.xlabel('Sentiment Value')\n",
    "plt.ylabel('Number of Reviews')\n",
    "\n",
    "# Show the plot\n",
    "plt.show()"
   ]
  }
 ],
 "metadata": {
  "kernelspec": {
   "display_name": "Python 3 (ipykernel)",
   "language": "python",
   "name": "python3"
  },
  "language_info": {
   "codemirror_mode": {
    "name": "ipython",
    "version": 3
   },
   "file_extension": ".py",
   "mimetype": "text/x-python",
   "name": "python",
   "nbconvert_exporter": "python",
   "pygments_lexer": "ipython3",
   "version": "3.9.13"
  }
 },
 "nbformat": 4,
 "nbformat_minor": 5
}
